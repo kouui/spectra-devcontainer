{
 "cells": [
  {
   "cell_type": "markdown",
   "id": "bc0b7864",
   "metadata": {},
   "source": [
    "- 2021.08.20  u.k.  transfer 1d with FAL model"
   ]
  },
  {
   "cell_type": "code",
   "execution_count": 1,
   "id": "b9ef7107",
   "metadata": {},
   "outputs": [
    {
     "data": {
      "text/html": [
       "<style>.container { width:100% !important; }</style>"
      ],
      "text/plain": [
       "<IPython.core.display.HTML object>"
      ]
     },
     "metadata": {},
     "output_type": "display_data"
    }
   ],
   "source": [
    "from IPython.core.display import display, HTML\n",
    "display(HTML(\"<style>.container { width:100% !important; }</style>\"))\n"
   ]
  },
  {
   "cell_type": "code",
   "execution_count": 2,
   "id": "5038cb79",
   "metadata": {},
   "outputs": [],
   "source": [
    "import numpy as np\n",
    "\n",
    "#%matplotlib inline\n",
    "#%matplotlib qt\n",
    "import matplotlib.pyplot as plt\n",
    "from matplotlib.colors import LogNorm\n"
   ]
  },
  {
   "cell_type": "code",
   "execution_count": 3,
   "id": "7c95045e",
   "metadata": {},
   "outputs": [],
   "source": [
    "%load_ext autoreload\n",
    "%autoreload 2\n",
    "\n",
    "import sys\n",
    "sys.path.append(\"../../\")\n",
    "\n",
    "from spectra_src.ImportAll import *\n",
    "import warnings\n",
    "warnings.simplefilter('ignore', UserWarning)\n",
    "warnings.simplefilter('ignore', DeprecationWarning)"
   ]
  },
  {
   "cell_type": "code",
   "execution_count": 4,
   "id": "6f1c5ee6",
   "metadata": {},
   "outputs": [],
   "source": [
    "from spectra_src.Util import HelpUtil\n",
    "\n",
    "from spectra_src.Struct import Atom as Atom\n",
    "from spectra_src.Experimental import ExFAL as _ExFAL\n",
    "from spectra_src.Experimental import ExSpectrum as _ExSpectrum\n",
    "from spectra_src.Experimental import ExScatter as _ExScatter\n",
    "from spectra_src.Atomic import BasicP as _BasicP\n",
    "from spectra_src.RadiativeTransfer import Profile as _Profile\n",
    "from spectra_src.Atomic import Hydrogen as _Hydrogen\n",
    "from spectra_src.Atomic import LTELib as _LTELib\n",
    "#from spectra_src.Function.Hydrogen import DegenerateN as _DegenerateN\n",
    "\n",
    "#from spectra_src.Atomic import ContinuumOpacity as _ContinuumOpacity\n",
    "\n",
    "from spectra_src.Function.SEquil import SELib as _SELib"
   ]
  },
  {
   "cell_type": "markdown",
   "id": "c5763ca6",
   "metadata": {},
   "source": [
    "---"
   ]
  },
  {
   "cell_type": "code",
   "execution_count": 5,
   "id": "13f296b5",
   "metadata": {},
   "outputs": [],
   "source": [
    "import os\n",
    "\n",
    "conf_path = os.path.join( CFG._ROOT_DIR, \"data/conf/H6.conf\" )\n",
    "atom, wMesh, path_dict = Atom.init_Atom_(conf_path , is_hydrogen=True)"
   ]
  },
  {
   "cell_type": "code",
   "execution_count": 6,
   "id": "6103c698",
   "metadata": {},
   "outputs": [],
   "source": [
    "FAL_path = os.path.join( CFG._ROOT_DIR, \"data/atmos/FAL/FALC_82.atmos\" )\n",
    "pop_con, atmos = _ExFAL.init_FAL_(FAL_path)\n",
    "spectrum = _ExSpectrum.init_spectrum_(atom=atom, wMesh=wMesh, Te=atmos.Te.min(), Vt=atmos.Vt.min() )"
   ]
  },
  {
   "cell_type": "code",
   "execution_count": 19,
   "id": "cda3040e",
   "metadata": {},
   "outputs": [
    {
     "data": {
      "image/png": "[encoded data removed]",
      "text/plain": [
       "<Figure size 864x432 with 1 Axes>"
      ]
     },
     "metadata": {
      "needs_background": "light"
     },
     "output_type": "display_data"
    }
   ],
   "source": [
    "fig = plt.figure(figsize=(12,6))\n",
    "for k in range(5):\n",
    "    plt.plot(wMesh.Cont_mesh[k,:]*1E8, [k,]*41, \"o\", markersize=2)\n",
    "plt.axvline(x=4341)\n",
    "plt.show()"
   ]
  },
  {
   "cell_type": "code",
   "execution_count": 20,
   "id": "0e45904b",
   "metadata": {},
   "outputs": [],
   "source": [
    "nZ = atmos.Z.size\n",
    "\n",
    "# pre-calculate LTE population\n",
    "nH_pop_LTE = np.empty((nZ, atom.nLevel), dtype=\"float64\")\n",
    "for kz in range(nZ):\n",
    "    nH_pop_LTE[kz,:], _ = _SELib._ni_nj_LTE_(atom.Level, atom.Line, atom.Cont, atmos.Te[kz], atmos.Ne[kz])"
   ]
  },
  {
   "cell_type": "code",
   "execution_count": 21,
   "id": "a9b85edd",
   "metadata": {},
   "outputs": [],
   "source": [
    "# background opacity, emissivity and scattering coefficient\n",
    "alp_c = np.empty((spectrum.nSpectrum,nZ), dtype=\"float64\")\n",
    "eta_c = np.empty((spectrum.nSpectrum,nZ), dtype=\"float64\")\n",
    "eps_c = np.empty((spectrum.nSpectrum,nZ), dtype=\"float64\")\n",
    "for ks in range(spectrum.nSpectrum):\n",
    "    #print(f\"\\r{ks}/{spectrum.nSpectrum}\", end=\"\")\n",
    "    wave = spectrum.spectrum[ks]\n",
    "    \n",
    "    # pre-calculate background opacity\n",
    "    for kz in range(nZ):\n",
    "\n",
    "        nH_pop = pop_con.n_population[kz,:]\n",
    "        nH = atmos.Nh[kz]\n",
    "        Te = atmos.Te[kz]\n",
    "        ne = atmos.Ne[kz]\n",
    "        alp_c[ks,kz], eta_c[ks,kz], eps_c[ks,kz] = _ExScatter.background_opacity_(wave, nH_pop_LTE[kz,:], nH_pop, nH, ne, Te)"
   ]
  },
  {
   "cell_type": "code",
   "execution_count": 22,
   "id": "800c38c5",
   "metadata": {},
   "outputs": [],
   "source": [
    "Jbar = np.zeros((spectrum.nSpectrum, nZ), dtype=\"float64\")"
   ]
  },
  {
   "cell_type": "code",
   "execution_count": 23,
   "id": "e907ca7d",
   "metadata": {},
   "outputs": [],
   "source": [
    "# (base opacity)  background : thomson, rayleigh, H-, H2+, H+-ff, (LTE)... \n",
    "# (active opacity)radiative transfer : (atomic-model) bound-bound (line), bound-free (continuum)\n",
    "\n",
    "# calculate transition (radiative transfer) opacity and emissivity (bound-bound + bound-free)\n",
    "Line = atom.Line\n",
    "Level = atom.Level\n",
    "Cont = atom.Cont\n",
    "\n",
    "\n",
    "# calculate bound-free cross section\n",
    "cross_sec = np.zeros((atom.nCont, spectrum.nSpectrum))\n",
    "for ks in range(spectrum.nSpectrum):\n",
    "    wave = spectrum.spectrum[ks]\n",
    "    cross_sec[:,ks] = _Hydrogen.PI_cross_section_cm_(Cont[\"ni\"][:], wave, 1)\n",
    "\n",
    "\n",
    "alp_rt = np.zeros((spectrum.nSpectrum,nZ), dtype=\"float64\")\n",
    "eta_rt = np.zeros((spectrum.nSpectrum,nZ), dtype=\"float64\")\n",
    "\n",
    "fourpi = 4. * CST.pi_\n",
    "\n",
    "for ks in range(spectrum.nSpectrum):\n",
    "#    print(f\"\\r{ks}/{spectrum.nSpectrum}\", end=\"\")\n",
    "    wave = spectrum.spectrum[ks] # [cm]\n",
    "    for kl in spectrum.belonging_line[ks,:]:\n",
    "        if kl == -1:\n",
    "            break\n",
    "        Aji = Line[\"AJI\"][kl]\n",
    "        Bji = Line[\"BJI\"][kl]\n",
    "        Bij = Line[\"BIJ\"][kl]\n",
    "        f0 = Line[\"f0\"][kl]\n",
    "        hv = CST.h_ * f0\n",
    "        w0 = Line[\"w0\"][kl]\n",
    "        \n",
    "        dopWidth_cm = _BasicP.doppler_width_(w0, atmos.Te[:], atmos.Vt[:], atom.Mass)\n",
    "        dopWidth_hz = dopWidth_cm * f0 / w0\n",
    "        ni = pop_con.n_population[ :,Line[\"idxI\"][kl] ] # [-]\n",
    "        nj = pop_con.n_population[ :,Line[\"idxJ\"][kl] ] # [-]\n",
    "        alp0 = hv / fourpi * (Bij * ni[:] - Bji * nj[:] ) * pop_con.n_total[:]\n",
    "        a = Line[\"Gamma\"][kl] / ( fourpi * dopWidth_hz[:] )\n",
    "        wm =  (wave - w0) / spectrum.dop_width_cm[kl]\n",
    "        phi = _Profile.voigt_(a, wm) / dopWidth_cm\n",
    "        \n",
    "        alp_rt[ks,:] += alp0 * phi\n",
    "        eta_rt[ks,:] += hv / fourpi * ( Aji * nj ) * phi * pop_con.n_total[:]\n",
    "    del kl\n",
    "    \n",
    "    for kc in spectrum.belonging_cont[ks,:]:\n",
    "        if kc == -1:\n",
    "            break\n",
    "        f0 = CST.c_ / wave\n",
    "        ni = pop_con.n_population[ :,Cont[\"idxI\"][kc] ]\n",
    "        nj = pop_con.n_population[ :,Cont[\"idxJ\"][kc] ]\n",
    "        ni_LTE = nH_pop_LTE[:,Cont[\"idxI\"][kc]]\n",
    "        nj_LTE = nH_pop_LTE[:,Cont[\"idxJ\"][kc]]\n",
    "        bi = ni / ni_LTE\n",
    "        bj = nj / nj_LTE\n",
    "        exp_hnu_kT = np.exp(CST.h_*f0/CST.k_/atmos.Te[:])\n",
    "        \n",
    "        src_bf = 2*CST.h_*(CST.c_*CST.c_) / (wave)**5 / (bi/bj*exp_hnu_kT-1.)\n",
    "        alp_bf = ni * cross_sec[kc,ks] * (1. - bj/bi/exp_hnu_kT)\n",
    "        eta_bf = src_bf * alp_bf\n",
    "        alp_rt[ks,:] += alp_bf\n",
    "        eta_rt[ks,:] += eta_bf\n",
    "        \n",
    "    del kc"
   ]
  },
  {
   "cell_type": "code",
   "execution_count": 37,
   "id": "c965a2b7",
   "metadata": {},
   "outputs": [],
   "source": [
    "# angles\n",
    "from spectra_src.Math import GaussLeg \n",
    "\n",
    "nray = 4\n",
    "\n",
    "mus, weights = GaussLeg.gauss_quad_coe_(0.,1.,4)"
   ]
  },
  {
   "cell_type": "code",
   "execution_count": 46,
   "id": "17bcbc28",
   "metadata": {},
   "outputs": [
    {
     "data": {
      "image/png": "[encoded data removed]",
      "text/plain": [
       "<Figure size 576x288 with 1 Axes>"
      ]
     },
     "metadata": {
      "needs_background": "light"
     },
     "output_type": "display_data"
    }
   ],
   "source": [
    "fig,ax = plt.subplots(1,1, figsize=(8,4))\n",
    "ax.plot(atmos.Z[::]*1E-5, tau[600,:])\n",
    "ax.set_yscale(\"log\")\n",
    "plt.show()"
   ]
  },
  {
   "cell_type": "code",
   "execution_count": 47,
   "id": "6899de4d",
   "metadata": {},
   "outputs": [],
   "source": [
    "# calculate total extinction and emmisivity\n",
    "alp_total = alp_rt + alp_c\n",
    "src_total = (eta_rt + eta_c + eps_c * Jbar) / (alp_total)\n",
    "\n",
    "# optical depth\n",
    "dtau = np.zeros((spectrum.nSpectrum,nZ), dtype=\"float64\")\n",
    "#dtau = np.zeros((spectrum.nSpectrum,nZ), dtype=\"float64\")\n",
    "for ks in range(spectrum.nSpectrum):\n",
    "    wave = spectrum.spectrum[ks]\n",
    "    dtau[ks,0]  = 0.5 * alp_total[ks,0] * (atmos.Z[0]-atmos.Z[1])\n",
    "    dtau[ks,1:] = 0.5 * (alp_total[ks,:-1]+alp_total[ks,1:]) * (atmos.Z[:-1]-atmos.Z[1:])\n",
    "\n",
    "# compute tau\n",
    "tau = dtau.cumsum(axis=1)"
   ]
  },
  {
   "cell_type": "code",
   "execution_count": 28,
   "id": "d3da646a",
   "metadata": {},
   "outputs": [],
   "source": [
    "from spectra_src.Experimental import ExFeautrier as _ExFeautrier\n",
    "\n",
    "# boundary condition\n",
    "I_lower = np.zeros((nray, spectrum.nSpectrum), dtype=\"float64\")\n",
    "for kr in range(nray):\n",
    "    I_lower[kr,:] = _LTELib.planck_cm_(spectrum.spectrum[:], atmos.Te[-1])\n",
    "\n",
    "# solve radiative transfer for (ray, wavelength)\n",
    "for ks in range(spectrum.nSpectrum):\n",
    "    Pnew = np.zeros(nZ, dtype=\"float64\")\n",
    "    for kr in range(nray):\n",
    "        mu = mus[kr]\n",
    "        weight = weights[kr]\n",
    "        #I_l = I_lower[kr, ks]\n",
    "        #wave = spectrum.spectrum[ks]\n",
    "        Pnew[:] += weight * _ExFeautrier.formal_improved_RH_(tau[ks,:], src_total[ks,:], mu, r0=0, h0=0, rn=1, hn=0)\n",
    "    Jbar[ks,:] = Pnew[:]\n",
    "\n",
    "\n"
   ]
  }
 ],
 "metadata": {
  "kernelspec": {
   "display_name": "spectra-py39",
   "language": "python",
   "name": "spectra-py39"
  },
  "language_info": {
   "codemirror_mode": {
    "name": "ipython",
    "version": 3
   },
   "file_extension": ".py",
   "mimetype": "text/x-python",
   "name": "python",
   "nbconvert_exporter": "python",
   "pygments_lexer": "ipython3",
   "version": "3.9.4"
  }
 },
 "nbformat": 4,
 "nbformat_minor": 5
}
